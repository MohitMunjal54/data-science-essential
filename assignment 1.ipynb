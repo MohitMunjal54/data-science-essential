{
 "cells": [
  {
   "cell_type": "code",
   "execution_count": null,
   "metadata": {},
   "outputs": [],
   "source": [
    "# q1\n",
    "\n",
    "RAINBOW\n",
    "\n"
   ]
  },
  {
   "cell_type": "code",
   "execution_count": 1,
   "metadata": {},
   "outputs": [
    {
     "name": "stdout",
     "output_type": "stream",
     "text": [
      "\"LETS UPGRADE\"\n"
     ]
    }
   ],
   "source": [
    "#Q2  TO PRINT \"LETS UPGRADE\".\n",
    "\n",
    "print('\"LETS UPGRADE\"')"
   ]
  },
  {
   "cell_type": "code",
   "execution_count": 14,
   "metadata": {},
   "outputs": [
    {
     "name": "stdout",
     "output_type": "stream",
     "text": [
      "enter cost price :77\n",
      "enter slling price :77\n",
      "neither\n"
     ]
    }
   ],
   "source": [
    "#Q3\n",
    "\n",
    "c=int(input(\"enter cost price :\"))\n",
    "s=int(input(\"enter slling price :\"))\n",
    "if c>s:\n",
    "        print(\"LOSS\")\n",
    "elif c==s:\n",
    "        print(\"neither\")\n",
    "else:\n",
    "        print(\"PROFIT\")"
   ]
  },
  {
   "cell_type": "code",
   "execution_count": 18,
   "metadata": {},
   "outputs": [
    {
     "name": "stdout",
     "output_type": "stream",
     "text": [
      "20\n",
      "1600\n"
     ]
    }
   ],
   "source": [
    "#Q4  Write a program that takes an amount in Euros as input. You need to find its equivalent in Rupees and display it. Assume 1 Euro equals Rs. 80.\n",
    "\n",
    "r=int(input())\n",
    "print(r*80)"
   ]
  },
  {
   "cell_type": "code",
   "execution_count": null,
   "metadata": {},
   "outputs": [],
   "source": []
  },
  {
   "cell_type": "code",
   "execution_count": null,
   "metadata": {},
   "outputs": [],
   "source": []
  }
 ],
 "metadata": {
  "kernelspec": {
   "display_name": "Python 3",
   "language": "python",
   "name": "python3"
  },
  "language_info": {
   "codemirror_mode": {
    "name": "ipython",
    "version": 3
   },
   "file_extension": ".py",
   "mimetype": "text/x-python",
   "name": "python",
   "nbconvert_exporter": "python",
   "pygments_lexer": "ipython3",
   "version": "3.8.3"
  }
 },
 "nbformat": 4,
 "nbformat_minor": 4
}
